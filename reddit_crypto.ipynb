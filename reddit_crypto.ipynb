{
 "cells": [
  {
   "cell_type": "code",
   "execution_count": 1,
   "id": "d63a6b77",
   "metadata": {},
   "outputs": [],
   "source": [
    "import praw\n",
    "import pandas as pd\n",
    "from datetime import datetime \n",
    "import configparser\n",
    "import os\n",
    "import time"
   ]
  },
  {
   "cell_type": "markdown",
   "id": "405d8bb2",
   "metadata": {},
   "source": [
    "Read reddit API credentials from config file"
   ]
  },
  {
   "cell_type": "code",
   "execution_count": 2,
   "id": "46738e2a",
   "metadata": {},
   "outputs": [],
   "source": [
    "parser = configparser.ConfigParser()\n",
    "parser.read('reddit_config.cfg')\n",
    "clid = parser.get('my_api','client_id')\n",
    "clsec = parser.get('my_api','client_secret')\n",
    "usag = parser.get('my_api','user_agent')"
   ]
  },
  {
   "cell_type": "markdown",
   "id": "a875cd81",
   "metadata": {},
   "source": [
    "Establish connection to Reddit API with PRAW"
   ]
  },
  {
   "cell_type": "code",
   "execution_count": 3,
   "id": "4adb5805",
   "metadata": {},
   "outputs": [],
   "source": [
    "r = praw.Reddit(client_id=clid, client_secret=clsec, user_agent=usag)"
   ]
  },
  {
   "cell_type": "markdown",
   "id": "03bdd7ae",
   "metadata": {},
   "source": [
    "Want to find Daily Discussion subreddit from 4 days at hi/lo fear and greed index per https://coingecko.live/en/fear-and-greed-index\n",
    "\n",
    "Date, Score, Subreddit sub, num comments\n",
    "\n",
    "Greedy\n",
    "* 10/21/2021, 84, qcekzf, 14000\n",
    "* 08/23/2021, 79, p9o1td, 59000\n",
    "\n",
    "Fear\n",
    "* 12/06/2021, 16, r9t7ks, 17000\n",
    "* 01/08/2022, 10, rylwuh, 12700"
   ]
  },
  {
   "cell_type": "code",
   "execution_count": 4,
   "id": "2467c19a",
   "metadata": {},
   "outputs": [],
   "source": [
    "sublist = ['qcekzf','p9o1td','r9t7ks','rylwuh']\n",
    "# sublist = ['rylwuh']\n",
    "lim = 100"
   ]
  },
  {
   "cell_type": "markdown",
   "id": "45ff82d0",
   "metadata": {},
   "source": [
    "Collect comments for each submission in the list 'sublist', save each comment into a dataframe for analysis later.\n",
    "\n",
    "Cell takes a long time to run beacuse of PRAWs 'replace_more' function. For testing, suggest reducing the 'lim' setting above, which gives fewer comments but makes fewer calls to 'replace_more'"
   ]
  },
  {
   "cell_type": "code",
   "execution_count": 5,
   "id": "2e231d45",
   "metadata": {},
   "outputs": [
    {
     "name": "stdout",
     "output_type": "stream",
     "text": [
      "Extract for sub qcekzf took 102.3 seconds\n",
      "Extract for sub p9o1td took 519.2 seconds\n",
      "Extract for sub r9t7ks took 109.8 seconds\n",
      "Extract for sub rylwuh took 88.6 seconds\n"
     ]
    }
   ],
   "source": [
    "df_collect = pd.DataFrame()\n",
    "\n",
    "for sub in sublist :\n",
    "    tic = time.perf_counter()    \n",
    "    comment_list = []\n",
    "    dt_list = []\n",
    "\n",
    "    submission = r.submission(id=sub)\n",
    "    submission.comments.replace_more(limit=lim)\n",
    "    for comment in submission.comments.list():\n",
    "        comment_list.append(comment.body)        \n",
    "        dt_list.append(str(datetime.fromtimestamp(comment.created_utc)))        \n",
    "\n",
    "    df = pd.DataFrame(list(zip(comment_list, dt_list)), columns=['comment','dt'])      \n",
    "    df['sub'] = sub\n",
    "    toc = time.perf_counter()\n",
    "    print(f\"Extract for sub {sub} took {toc - tic:0.1f} seconds\")\n",
    "    \n",
    "    df_collect = df_collect.append(df)"
   ]
  },
  {
   "cell_type": "markdown",
   "id": "c776bd17",
   "metadata": {},
   "source": [
    "Save dataframe off to a pickle for later use."
   ]
  },
  {
   "cell_type": "code",
   "execution_count": 6,
   "id": "f08c60cb",
   "metadata": {},
   "outputs": [],
   "source": [
    "df_collect.to_pickle('data/reddit_extract.pkl')"
   ]
  },
  {
   "cell_type": "code",
   "execution_count": 7,
   "id": "560e380e",
   "metadata": {},
   "outputs": [
    {
     "data": {
      "text/plain": [
       "p9o1td    10375\n",
       "r9t7ks     7819\n",
       "qcekzf     7605\n",
       "rylwuh     6245\n",
       "Name: sub, dtype: int64"
      ]
     },
     "execution_count": 7,
     "metadata": {},
     "output_type": "execute_result"
    }
   ],
   "source": [
    "df_collect['sub'].value_counts()"
   ]
  }
 ],
 "metadata": {
  "kernelspec": {
   "display_name": "Python 3",
   "language": "python",
   "name": "python3"
  },
  "language_info": {
   "codemirror_mode": {
    "name": "ipython",
    "version": 3
   },
   "file_extension": ".py",
   "mimetype": "text/x-python",
   "name": "python",
   "nbconvert_exporter": "python",
   "pygments_lexer": "ipython3",
   "version": "3.8.2"
  }
 },
 "nbformat": 4,
 "nbformat_minor": 5
}
